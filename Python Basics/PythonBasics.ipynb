{
 "cells": [
  {
   "cell_type": "markdown",
   "id": "588f7bf5",
   "metadata": {},
   "source": [
    "# Python\n",
    "* simple language, stright forward syntax\n"
   ]
  },
  {
   "cell_type": "code",
   "execution_count": 1,
   "id": "05532d8d",
   "metadata": {},
   "outputs": [
    {
     "name": "stdout",
     "output_type": "stream",
     "text": [
      "hello\n"
     ]
    }
   ],
   "source": [
    "print(\"hello\")"
   ]
  },
  {
   "cell_type": "code",
   "execution_count": 14,
   "id": "a016d545",
   "metadata": {},
   "outputs": [
    {
     "name": "stdout",
     "output_type": "stream",
     "text": [
      "1\n",
      "1.34\n",
      "-4\n",
      "1 <class 'int'>\n"
     ]
    }
   ],
   "source": [
    "a=1 # integer\n",
    "b=1.34 #float\n",
    "c=-4\n",
    "print(a)\n",
    "print(b)\n",
    "print(c)\n",
    "print(a, type(a))"
   ]
  },
  {
   "cell_type": "code",
   "execution_count": 3,
   "id": "b9ec4d97",
   "metadata": {},
   "outputs": [
    {
     "name": "stdout",
     "output_type": "stream",
     "text": [
      "13\n",
      "7\n",
      "30\n",
      "3.3333333333333335\n",
      "3\n",
      "1\n",
      "1000\n"
     ]
    }
   ],
   "source": [
    "a, b = 10, 3\n",
    "print(a + b)# Addition\n",
    "print(a - b)# Subtraction\n",
    "print(a * b)  # Multiplication\n",
    "print(a / b)# Division\n",
    "print(a // b)# Floor division\n",
    "print(a % b)# Modulo\n",
    "print(a ** b)#Exponentiation"
   ]
  },
  {
   "cell_type": "code",
   "execution_count": 5,
   "id": "2e0e25c9",
   "metadata": {},
   "outputs": [
    {
     "name": "stdout",
     "output_type": "stream",
     "text": [
      "False\n"
     ]
    }
   ],
   "source": [
    "# boolean\n",
    "result =5>7\n",
    "print (result)"
   ]
  },
  {
   "cell_type": "code",
   "execution_count": 7,
   "id": "a946da73",
   "metadata": {},
   "outputs": [
    {
     "name": "stdout",
     "output_type": "stream",
     "text": [
      "0\n",
      "1\n",
      "2\n",
      "3\n"
     ]
    }
   ],
   "source": [
    "#for loop\n",
    "for i in range (4):\n",
    "    print(i)\n"
   ]
  },
  {
   "cell_type": "code",
   "execution_count": null,
   "id": "89b57b2c",
   "metadata": {},
   "outputs": [
    {
     "name": "stdout",
     "output_type": "stream",
     "text": [
      "6 is greater\n"
     ]
    }
   ],
   "source": [
    "# if else, elif\n",
    "a = 4\n",
    "b = 6\n",
    "\n",
    "if a > b:\n",
    "    print(f\"{a} is greater\")\n",
    "elif b > a:\n",
    "    print(f\"{b} is greater\")\n",
    "else:\n",
    "    print(\"equal\")\n"
   ]
  },
  {
   "cell_type": "code",
   "execution_count": 12,
   "id": "dcd9333e",
   "metadata": {},
   "outputs": [
    {
     "name": "stdout",
     "output_type": "stream",
     "text": [
      "0\n",
      "1\n",
      "2\n"
     ]
    }
   ],
   "source": [
    "for i in range(6):\n",
    "    if i==3:\n",
    "        break\n",
    "    print(i)"
   ]
  },
  {
   "cell_type": "code",
   "execution_count": 21,
   "id": "d8c0b250",
   "metadata": {},
   "outputs": [
    {
     "name": "stdout",
     "output_type": "stream",
     "text": [
      "[1, 2, 3, 4, 5]\n",
      "2\n",
      "[1, 2, 3, 4]\n"
     ]
    }
   ],
   "source": [
    "# list\n",
    "x= [1,2,3,4,5]\n",
    "print(x)\n",
    "print(x[1])\n",
    "print(x[:4])\n"
   ]
  },
  {
   "cell_type": "code",
   "execution_count": 38,
   "id": "8e97e716",
   "metadata": {},
   "outputs": [
    {
     "name": "stdout",
     "output_type": "stream",
     "text": [
      "[2, 4, 5, 7, 9]\n"
     ]
    }
   ],
   "source": [
    "l1 = [4 ,2,5,9,7]\n",
    "l1.sort()\n",
    "print(l1)"
   ]
  },
  {
   "cell_type": "code",
   "execution_count": 39,
   "id": "41bed0cc",
   "metadata": {},
   "outputs": [
    {
     "name": "stdout",
     "output_type": "stream",
     "text": [
      "[2, 4, 5, 7, 9]\n",
      "[2, 4, 5, 7, 9, 11]\n",
      "[2, 4, 5, 7, 9, 11]\n",
      "[2, 4, 5, 7, 9]\n",
      "[2, 4, 7, 9]\n",
      "9\n"
     ]
    }
   ],
   "source": [
    "l2=l1 # doesnt create new list but point toward l1\n",
    "print(l2)\n",
    "l1.append(11)\n",
    "print(l2)\n",
    "print(l1)\n",
    "l1.pop()# last index pop\n",
    "print(l1)\n",
    "l1.pop(2)# index 2 pop\n",
    "print(l1)\n",
    "a= l1.pop()# store poped value\n",
    "print(a)"
   ]
  },
  {
   "cell_type": "code",
   "execution_count": null,
   "id": "b50a2441",
   "metadata": {},
   "outputs": [
    {
     "name": "stdout",
     "output_type": "stream",
     "text": [
      "[2, 4, 6, 5, 8]\n",
      "[4, 6, 5, 8]\n"
     ]
    }
   ],
   "source": [
    "l1= [2, 4, 6, 8]\n",
    "l1.insert(3,5)# (index , element to be inserted)\n",
    "print(l1)\n",
    "l1.remove(2)#if val 2 available remove it \n",
    "print(l1)"
   ]
  },
  {
   "cell_type": "code",
   "execution_count": null,
   "id": "dfbad5fa",
   "metadata": {},
   "outputs": [],
   "source": [
    "# square bracket -> list\n",
    "# small bracket-> tuple\n",
    "# once created can't be modified"
   ]
  },
  {
   "cell_type": "code",
   "execution_count": null,
   "id": "226c6823",
   "metadata": {},
   "outputs": [
    {
     "name": "stdout",
     "output_type": "stream",
     "text": [
      "<class 'tuple'>\n",
      "(1, 3, 4, 5, 8)\n"
     ]
    }
   ],
   "source": [
    "# Tuple\n",
    "a=(1,3,4,5,8)\n",
    "print(type(a))\n",
    "print(a)\n"
   ]
  },
  {
   "cell_type": "code",
   "execution_count": null,
   "id": "6066cfa4",
   "metadata": {},
   "outputs": [
    {
     "name": "stdout",
     "output_type": "stream",
     "text": [
      "{1: 'apple', 2: 'ball', 3: 'cat'}\n",
      "{'name': 'Mero Vai', 'age': 21, 'subjects': ['Math', 'Java', 'Python']}\n"
     ]
    }
   ],
   "source": [
    "# Dictionary\n",
    "# collection of key value pairs\n",
    "d1 = {1: 'apple', 2: 'ball', 3: 'cat'}\n",
    "print(d1)   \n",
    "student = {\n",
    "    \"name\": \"Mero Vai\",\n",
    "    \"age\": 21,\n",
    "    \"subjects\": [\"Math\", \"Java\", \"Python\"]\n",
    "}\n",
    "print(student)\n",
    "\n",
    "\n",
    "print(student[\"name\"])     # Direct access\n",
    "print(student.get(\"age\"))  # Safe access (returns None if not found)\n",
    "print(student.get(\"grade\", \"Not Assigned\"))  # Default value\n",
    "student[\"college\"] = \"Pokhara University\"  # Add new key\n",
    "student[\"age\"] = 19                       # Update existing key\n",
    "student.pop(\"age\")        # Remove by key\n",
    "print(student)  \n",
    "student.popitem()         # Removes last inserted item\n",
    "del student[\"name\"]       # Delete specific key\n",
    "student.clear()           # Remove all items\n",
    "print(student)"
   ]
  },
  {
   "cell_type": "code",
   "execution_count": 3,
   "id": "f718c69f",
   "metadata": {},
   "outputs": [
    {
     "name": "stdout",
     "output_type": "stream",
     "text": [
      "{}\n",
      "{'name': 'Alice', 'age': 20}\n",
      "{1: 'One', 'two': 2, (3, 4): 'Tuple key'}\n"
     ]
    }
   ],
   "source": [
    "# creating of dictonary\n",
    "# Empty dictionary\n",
    "d1 = {}\n",
    "\n",
    "# Using dict() function\n",
    "d2 = dict(name=\"Alice\", age=20)\n",
    "\n",
    "# Mixed keys\n",
    "d3 = {1: \"One\", \"two\": 2, (3, 4): \"Tuple key\"}\n",
    "print(d1)\n",
    "print(d2)\n",
    "print(d3)"
   ]
  },
  {
   "cell_type": "code",
   "execution_count": 1,
   "id": "75d3de8d",
   "metadata": {},
   "outputs": [
    {
     "name": "stdout",
     "output_type": "stream",
     "text": [
      "0 1 1 2 3 5 8 13 "
     ]
    }
   ],
   "source": [
    "# Fibonacci Series\n",
    "num = int(input(\"Enter a number: \"))\n",
    "a, b = 0, 1\n",
    "\n",
    "for i in range(num):\n",
    "    print(a, end=\" \")\n",
    "    a, b = b, a + b   # update both at the same time can also be done using  temp val\n"
   ]
  }
 ],
 "metadata": {
  "kernelspec": {
   "display_name": "Python 3",
   "language": "python",
   "name": "python3"
  },
  "language_info": {
   "codemirror_mode": {
    "name": "ipython",
    "version": 3
   },
   "file_extension": ".py",
   "mimetype": "text/x-python",
   "name": "python",
   "nbconvert_exporter": "python",
   "pygments_lexer": "ipython3",
   "version": "3.13.1"
  }
 },
 "nbformat": 4,
 "nbformat_minor": 5
}
