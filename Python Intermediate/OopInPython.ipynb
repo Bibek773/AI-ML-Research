{
 "cells": [
  {
   "cell_type": "markdown",
   "id": "dd719979",
   "metadata": {},
   "source": [
    "# OOP in Python\n",
    "\n",
    "## Class and Object\n",
    "* Blueprint for creating objects\n",
    "* Encapsulates data and behavior\n",
    "```python\n",
    "# creation of class\n",
    "class classname:\n",
    "    # class body\n",
    "\n",
    "# Creation of object\n",
    "objectname = classname()\n",
    "```"
   ]
  },
  {
   "cell_type": "code",
   "execution_count": 3,
   "id": "350d02e6",
   "metadata": {},
   "outputs": [
    {
     "name": "stdout",
     "output_type": "stream",
     "text": [
      "Bibek\n",
      "<__main__.Student object at 0x000001CB5C759400>\n"
     ]
    }
   ],
   "source": [
    "class Student:\n",
    "    name = \"Bibek\"\n",
    "\n",
    "s1 = Student()\n",
    "print(s1.name) \n",
    "print(s1) "
   ]
  },
  {
   "cell_type": "code",
   "execution_count": null,
   "id": "51355777",
   "metadata": {},
   "outputs": [
    {
     "name": "stdout",
     "output_type": "stream",
     "text": [
      "Bibek\n",
      "20\n",
      "<__main__.Student object at 0x000001CB5C759940>\n"
     ]
    }
   ],
   "source": [
    "# constructors in python\n",
    "# all classes have function __init__(), which is always executed when the calss is being initiated.\n",
    "class Student:\n",
    "   def __init__(self, name, age):# constructor\n",
    "       self.name = name\n",
    "       self.age = age\n",
    "       print(self.name)\n",
    "       print(self.age)\n",
    "       print(self)\n",
    "        \n",
    "s1 = Student(\"Bibek\", 20)\n",
    "\n",
    "\n",
    "# while defining a constructor, it takes self as the first parameter, which is a reference to the current instance of the class."
   ]
  },
  {
   "cell_type": "code",
   "execution_count": 9,
   "id": "5dfe961f",
   "metadata": {},
   "outputs": [
    {
     "name": "stdout",
     "output_type": "stream",
     "text": [
      "Default constructor\n",
      "Bibek\n",
      "parameterized constructor\n"
     ]
    }
   ],
   "source": [
    "class Student:\n",
    "    def __init__(self):\n",
    "        print(\"Default constructor\")\n",
    "    def display(self, name):\n",
    "        self.name = name\n",
    "        print(self.name)\n",
    "        print(\"parameterized constructor\")\n",
    "s1 = Student() # Default constructor\n",
    "s1.display(\"Bibek\") # parameterized constructor"
   ]
  },
  {
   "cell_type": "markdown",
   "id": "307f03de",
   "metadata": {},
   "source": [
    "##### Class and IInstance Attributes\n",
    "#### Instance attribute\n",
    "* for specific object(instance) of class\n",
    "* each object gets its own seperate copy of the attribute\n",
    "* Defined inside `__init__()` using `self.attribute = value`.\n",
    "####  Class attribute\n",
    "* for a class, shared among all of the object of the class\n",
    "* changing on one obj will change the vlaue for all the objects\n",
    "\n",
    "\n"
   ]
  },
  {
   "cell_type": "code",
   "execution_count": 10,
   "id": "5354ac04",
   "metadata": {},
   "outputs": [
    {
     "name": "stdout",
     "output_type": "stream",
     "text": [
      "hello\n"
     ]
    }
   ],
   "source": [
    "# methods\n",
    "class Student:\n",
    "    def hello():\n",
    "        print(\"hello\")\n",
    "s1= Student\n",
    "s1.hello()"
   ]
  },
  {
   "cell_type": "markdown",
   "id": "00304d4a",
   "metadata": {},
   "source": [
    "#### Static Method\n",
    "* methods that don't use the slelf parameter and work at class level\n"
   ]
  },
  {
   "cell_type": "code",
   "execution_count": null,
   "id": "be1113c9",
   "metadata": {},
   "outputs": [
    {
     "name": "stdout",
     "output_type": "stream",
     "text": [
      "hello\n"
     ]
    }
   ],
   "source": [
    "\n",
    "class Student:\n",
    "    @staticmethod\n",
    "    def hello():\n",
    "        print(\"hello\")\n",
    "s1= Student\n",
    "s1.hello()\n",
    "## now hello is a static function\n",
    "# static method is also a decorator\n"
   ]
  },
  {
   "cell_type": "markdown",
   "id": "ec37ca97",
   "metadata": {},
   "source": [
    "### Abstraction\n",
    "Hiding the implementation detail of a class and only showing the essential fearures to the users.\n",
    "\n",
    "### Encapsulation\n",
    "Wrapping of data and function into a single unit( object)."
   ]
  },
  {
   "cell_type": "code",
   "execution_count": null,
   "id": "06198f8f",
   "metadata": {},
   "outputs": [
    {
     "name": "stdout",
     "output_type": "stream",
     "text": [
      "car start\n"
     ]
    }
   ],
   "source": [
    "class car:\n",
    "    def _init_(self):\n",
    "        self.acc = False\n",
    "        self.brk= False\n",
    "        self.clutch=False\n",
    "    def start(self):\n",
    "        self.clutch= True\n",
    "        self.acc= True\n",
    "        print(\"car start\")\n",
    "car1= car()\n",
    "car1.start()\n",
    "# unessery thing that we didn't show like turn clutch  and acc true, we just show car starts which is called abstraction\n",
    "        \n",
    "        "
   ]
  },
  {
   "cell_type": "code",
   "execution_count": 2,
   "id": "7e93613e",
   "metadata": {},
   "outputs": [
    {
     "ename": "NameError",
     "evalue": "name 's1' is not defined",
     "output_type": "error",
     "traceback": [
      "\u001b[31m---------------------------------------------------------------------------\u001b[39m",
      "\u001b[31mNameError\u001b[39m                                 Traceback (most recent call last)",
      "\u001b[36mCell\u001b[39m\u001b[36m \u001b[39m\u001b[32mIn[2]\u001b[39m\u001b[32m, line 11\u001b[39m\n\u001b[32m      9\u001b[39m \u001b[38;5;28;01mdel\u001b[39;00m s1.age\n\u001b[32m     10\u001b[39m \u001b[38;5;28;01mdel\u001b[39;00m s1\n\u001b[32m---> \u001b[39m\u001b[32m11\u001b[39m \u001b[38;5;28mprint\u001b[39m(\u001b[43ms1\u001b[49m.name) \u001b[38;5;66;03m# this will raise an error because s1 is deleted\u001b[39;00m\n",
      "\u001b[31mNameError\u001b[39m: name 's1' is not defined"
     ]
    }
   ],
   "source": [
    "# del keyword\n",
    "# use del object properties or object itself\n",
    "class Student:\n",
    "    def __init__(self, name, age):\n",
    "        self.name = name\n",
    "        self.age = age\n",
    "\n",
    "s1 = Student(\"Alice\", 20)\n",
    "del s1.age\n",
    "del s1\n",
    "print(s1.name) # this will raise an error because s1 is deleted"
   ]
  },
  {
   "cell_type": "code",
   "execution_count": 5,
   "id": "8c29a698",
   "metadata": {},
   "outputs": [
    {
     "name": "stdout",
     "output_type": "stream",
     "text": [
      "12345\n"
     ]
    },
    {
     "ename": "AttributeError",
     "evalue": "'Account' object has no attribute '__acc_pass'",
     "output_type": "error",
     "traceback": [
      "\u001b[31m---------------------------------------------------------------------------\u001b[39m",
      "\u001b[31mAttributeError\u001b[39m                            Traceback (most recent call last)",
      "\u001b[36mCell\u001b[39m\u001b[36m \u001b[39m\u001b[32mIn[5]\u001b[39m\u001b[32m, line 11\u001b[39m\n\u001b[32m      9\u001b[39m acc1 = Account(\u001b[32m12345\u001b[39m, \u001b[33m\"\u001b[39m\u001b[33mpassword\u001b[39m\u001b[33m\"\u001b[39m)\n\u001b[32m     10\u001b[39m \u001b[38;5;28mprint\u001b[39m(acc1.acc_no)\n\u001b[32m---> \u001b[39m\u001b[32m11\u001b[39m \u001b[38;5;28mprint\u001b[39m(\u001b[43macc1\u001b[49m\u001b[43m.\u001b[49m\u001b[43m__acc_pass\u001b[49m) \n",
      "\u001b[31mAttributeError\u001b[39m: 'Account' object has no attribute '__acc_pass'"
     ]
    }
   ],
   "source": [
    "# Private attrubutes and methods\n",
    "# private attributes are those which are not accessible outside the class\n",
    "class Account:\n",
    "    def __init__(self, acc, acc_p):\n",
    "        self.acc_no= acc\n",
    "        #self.acc_pass= acc_p # public attribute\n",
    "        self.__acc_pass= acc_p # private attribute\n",
    "\n",
    "acc1 = Account(12345, \"password\")\n",
    "print(acc1.acc_no)\n",
    "print(acc1.__acc_pass) "
   ]
  },
  {
   "cell_type": "code",
   "execution_count": 6,
   "id": "2f2a02b5",
   "metadata": {},
   "outputs": [
    {
     "name": "stdout",
     "output_type": "stream",
     "text": [
      "anonymous\n"
     ]
    },
    {
     "ename": "AttributeError",
     "evalue": "'person' object has no attribute '__hello'",
     "output_type": "error",
     "traceback": [
      "\u001b[31m---------------------------------------------------------------------------\u001b[39m",
      "\u001b[31mAttributeError\u001b[39m                            Traceback (most recent call last)",
      "\u001b[36mCell\u001b[39m\u001b[36m \u001b[39m\u001b[32mIn[6]\u001b[39m\u001b[32m, line 12\u001b[39m\n\u001b[32m     10\u001b[39m p1 = person()\n\u001b[32m     11\u001b[39m p1.display()  \u001b[38;5;66;03m# This will work and print \"anonymous\"\u001b[39;00m\n\u001b[32m---> \u001b[39m\u001b[32m12\u001b[39m \u001b[43mp1\u001b[49m\u001b[43m.\u001b[49m\u001b[43m__hello\u001b[49m()  \u001b[38;5;66;03m# This will raise an AttributeError\u001b[39;00m\n",
      "\u001b[31mAttributeError\u001b[39m: 'person' object has no attribute '__hello'"
     ]
    }
   ],
   "source": [
    "class person:\n",
    "    __name = \"anonymous\"\n",
    "\n",
    "    def __hello(self):\n",
    "        print(\"hello\")\n",
    "\n",
    "    def display(self):\n",
    "        print(self.__name)\n",
    "\n",
    "p1 = person()\n",
    "p1.display()  # This will work and print \"anonymous\"\n",
    "p1.__hello()  # This will raise an AttributeError"
   ]
  },
  {
   "cell_type": "markdown",
   "id": "2067938f",
   "metadata": {},
   "source": [
    "### Inheritance\n",
    "* when one class derices the properties and methods of another class\n",
    "```python\n",
    "class car:\n",
    "    ....\n",
    "\n",
    "class BMW(car): # inheritance\n",
    "    ...\n",
    "\n",
    "```\n",
    "### Types\n",
    "1. Single Inheritance\n",
    "   - One class inherits from another class.\n",
    "   ```python\n",
    "   class Parent:\n",
    "         ...    \n",
    "    class Child(Parent):\n",
    "            ...\n",
    "    ```\n",
    "\n",
    "2. Multiple Inheritance\n",
    "    - One class inherits from multiple classes.\n",
    "    ```python\n",
    "    class Parent1:\n",
    "            ...    \n",
    "     class Parent2:\n",
    "            ...    \n",
    "     class Child(Parent1, Parent2):\n",
    "                ...\n",
    "     ```\n",
    "3. Multilevel Inheritance\n",
    "    - A class inherits from a class which is also inherited from another class.\n",
    "    ```python\n",
    "    class GrandParent:\n",
    "            ...    \n",
    "     class Parent(GrandParent):\n",
    "            ...    \n",
    "     class Child(Parent):\n",
    "                ...\n",
    "     ```"
   ]
  },
  {
   "cell_type": "code",
   "execution_count": 9,
   "id": "47dc7523",
   "metadata": {},
   "outputs": [
    {
     "name": "stdout",
     "output_type": "stream",
     "text": [
      "car started\n",
      "None\n"
     ]
    }
   ],
   "source": [
    "class Car:\n",
    "    colot = \"black\"\n",
    "    @staticmethod\n",
    "    def start():\n",
    "        print(\"car started\")\n",
    "    \n",
    "    @staticmethod\n",
    "    def stop():\n",
    "        print(\"car stopped\")\n",
    "class BMW(Car):\n",
    "    def __init__(self, name):\n",
    "        self.name = name\n",
    "\n",
    "c1 = BMW(\"BMW 740d xDrive\")\n",
    "c2 = BMW(\"Bmw m5\")\n",
    "\n",
    "\n",
    "print(c1.start())"
   ]
  },
  {
   "cell_type": "code",
   "execution_count": null,
   "id": "72c116cb",
   "metadata": {},
   "outputs": [
    {
     "name": "stdout",
     "output_type": "stream",
     "text": [
      "car started\n"
     ]
    }
   ],
   "source": [
    "## Multilevel Inheritance\n",
    "class Car:\n",
    "    color = \"black\"\n",
    "    @staticmethod\n",
    "    def start():\n",
    "        print(\"car started\")\n",
    "    \n",
    "    @staticmethod\n",
    "    def stop():\n",
    "        print(\"car stopped\")\n",
    "class BMW(Car):\n",
    "    def __init__(self, brand):\n",
    "        self.brand = brand\n",
    "class series7(BMW):\n",
    "    def __init__(self, type):\n",
    "        self.type = type\n",
    "c1 = series7(\"Petrol\")\n",
    "\n",
    "c1.start()"
   ]
  },
  {
   "cell_type": "code",
   "execution_count": 11,
   "id": "4ca37dfb",
   "metadata": {},
   "outputs": [
    {
     "name": "stdout",
     "output_type": "stream",
     "text": [
      "I am class A\n",
      "I am class B\n",
      "I am class C\n"
     ]
    }
   ],
   "source": [
    "## Multiple Inheritance\n",
    "class A:\n",
    "    abc = \"I am class A\"\n",
    "\n",
    "class B:\n",
    "    bcd = \"I am class B\"\n",
    "\n",
    "class C(A, B):\n",
    "    efg= \"I am class C\"\n",
    "\n",
    "c1 = C()\n",
    "print(c1.abc)\n",
    "print(c1.bcd)\n",
    "print(c1.efg)"
   ]
  },
  {
   "cell_type": "code",
   "execution_count": 13,
   "id": "cc46224f",
   "metadata": {},
   "outputs": [
    {
     "name": "stdout",
     "output_type": "stream",
     "text": [
      "car started\n",
      "Petrol\n"
     ]
    }
   ],
   "source": [
    "# super() method\n",
    "\n",
    "class Car:\n",
    "    def __init__(self, type):\n",
    "        self.type = type\n",
    "\n",
    "    @staticmethod\n",
    "    def start():\n",
    "        print(\"car started\")\n",
    "    \n",
    "    @staticmethod\n",
    "    def stop():\n",
    "        print(\"car stopped\")\n",
    "class BMW(Car):\n",
    "    def __init__(self, name, type):\n",
    "        self.name = name\n",
    "        super().__init__(type)\n",
    "        super().start()\n",
    "c1 = BMW(\"M5\", \"Petrol\")\n",
    "print(c1.type)"
   ]
  },
  {
   "cell_type": "markdown",
   "id": "9bccb465",
   "metadata": {},
   "source": [
    "#### class method\n",
    "A class method is bounded to the class and recieve the class as an implicit first argument.\n",
    "Note: static method can't access or modify class state and generally for utilites.\n",
    "\n"
   ]
  },
  {
   "cell_type": "code",
   "execution_count": 15,
   "id": "cfa005cb",
   "metadata": {},
   "outputs": [
    {
     "name": "stdout",
     "output_type": "stream",
     "text": [
      "Ghimire\n"
     ]
    }
   ],
   "source": [
    "class Person:\n",
    "    name = \"Bibek\"# class attribute\n",
    "\n",
    "    def change_name(self, name):\n",
    "        self.name = name\n",
    "        ## Person.name = name # this will change the class attribute\n",
    "        ## self.__class__.name = name # this will also change the class attribute\n",
    "\n",
    "p1 = Person()\n",
    "p1.change_name(\"Ghimire\")\n",
    "print(p1.name)\n",
    "#print(Person.name)"
   ]
  },
  {
   "cell_type": "code",
   "execution_count": 17,
   "id": "18da6f85",
   "metadata": {},
   "outputs": [
    {
     "name": "stdout",
     "output_type": "stream",
     "text": [
      "Ghimire\n"
     ]
    }
   ],
   "source": [
    "class Person:\n",
    "    name = \"Bibek\"# class attribute\n",
    "\n",
    "    @classmethod\n",
    "    def change_name(cls, name):\n",
    "        cls.name = name## this will change the class attribute\n",
    "        \n",
    "p1 = Person()\n",
    "p1.change_name(\"Ghimire\")\n",
    "print(p1.name)"
   ]
  },
  {
   "cell_type": "code",
   "execution_count": null,
   "id": "57a288f9",
   "metadata": {},
   "outputs": [],
   "source": []
  }
 ],
 "metadata": {
  "kernelspec": {
   "display_name": "Python 3",
   "language": "python",
   "name": "python3"
  },
  "language_info": {
   "codemirror_mode": {
    "name": "ipython",
    "version": 3
   },
   "file_extension": ".py",
   "mimetype": "text/x-python",
   "name": "python",
   "nbconvert_exporter": "python",
   "pygments_lexer": "ipython3",
   "version": "3.13.1"
  }
 },
 "nbformat": 4,
 "nbformat_minor": 5
}
