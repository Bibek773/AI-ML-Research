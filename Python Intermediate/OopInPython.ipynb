{
 "cells": [
  {
   "cell_type": "markdown",
   "id": "dd719979",
   "metadata": {},
   "source": [
    "# OOP in Python\n",
    "\n",
    "## Class and Object\n",
    "* Blueprint for creating objects\n",
    "* Encapsulates data and behavior\n",
    "```python\n",
    "# creation of class\n",
    "class classname:\n",
    "    # class body\n",
    "\n",
    "# Creation of object\n",
    "objectname = classname()\n",
    "```"
   ]
  },
  {
   "cell_type": "code",
   "execution_count": 3,
   "id": "350d02e6",
   "metadata": {},
   "outputs": [
    {
     "name": "stdout",
     "output_type": "stream",
     "text": [
      "Bibek\n",
      "<__main__.Student object at 0x000001CB5C759400>\n"
     ]
    }
   ],
   "source": [
    "class Student:\n",
    "    name = \"Bibek\"\n",
    "\n",
    "s1 = Student()\n",
    "print(s1.name) \n",
    "print(s1) "
   ]
  },
  {
   "cell_type": "code",
   "execution_count": null,
   "id": "51355777",
   "metadata": {},
   "outputs": [
    {
     "name": "stdout",
     "output_type": "stream",
     "text": [
      "Bibek\n",
      "20\n",
      "<__main__.Student object at 0x000001CB5C759940>\n"
     ]
    }
   ],
   "source": [
    "# constructors in python\n",
    "# all classes have function __init__(), which is always executed when the calss is being initiated.\n",
    "class Student:\n",
    "   def __init__(self, name, age):# constructor\n",
    "       self.name = name\n",
    "       self.age = age\n",
    "       print(self.name)\n",
    "       print(self.age)\n",
    "       print(self)\n",
    "        \n",
    "s1 = Student(\"Bibek\", 20)\n",
    "\n",
    "\n",
    "# while defining a constructor, it takes self as the first parameter, which is a reference to the current instance of the class."
   ]
  },
  {
   "cell_type": "code",
   "execution_count": 9,
   "id": "5dfe961f",
   "metadata": {},
   "outputs": [
    {
     "name": "stdout",
     "output_type": "stream",
     "text": [
      "Default constructor\n",
      "Bibek\n",
      "parameterized constructor\n"
     ]
    }
   ],
   "source": [
    "class Student:\n",
    "    def __init__(self):\n",
    "        print(\"Default constructor\")\n",
    "    def display(self, name):\n",
    "        self.name = name\n",
    "        print(self.name)\n",
    "        print(\"parameterized constructor\")\n",
    "s1 = Student() # Default constructor\n",
    "s1.display(\"Bibek\") # parameterized constructor"
   ]
  },
  {
   "cell_type": "markdown",
   "id": "307f03de",
   "metadata": {},
   "source": [
    "##### Class and IInstance Attributes\n",
    "#### Instance attribute\n",
    "* for specific object(instance) of class\n",
    "* each object gets its own seperate copy of the attribute\n",
    "* Defined inside `__init__()` using `self.attribute = value`.\n",
    "####  Class attribute\n",
    "* for a class, shared among all of the object of the class\n",
    "* changing on one obj will change the vlaue for all the objects\n",
    "\n",
    "\n"
   ]
  },
  {
   "cell_type": "code",
   "execution_count": 10,
   "id": "5354ac04",
   "metadata": {},
   "outputs": [
    {
     "name": "stdout",
     "output_type": "stream",
     "text": [
      "hello\n"
     ]
    }
   ],
   "source": [
    "# methods\n",
    "class Student:\n",
    "    def hello():\n",
    "        print(\"hello\")\n",
    "s1= Student\n",
    "s1.hello()"
   ]
  },
  {
   "cell_type": "markdown",
   "id": "00304d4a",
   "metadata": {},
   "source": [
    "#### Static Method\n",
    "* methods that don't use the slelf parameter and work at class level\n"
   ]
  },
  {
   "cell_type": "code",
   "execution_count": null,
   "id": "be1113c9",
   "metadata": {},
   "outputs": [
    {
     "name": "stdout",
     "output_type": "stream",
     "text": [
      "hello\n"
     ]
    }
   ],
   "source": [
    "\n",
    "class Student:\n",
    "    @staticmethod\n",
    "    def hello():\n",
    "        print(\"hello\")\n",
    "s1= Student\n",
    "s1.hello()\n",
    "## now hello is a static function\n",
    "# static method is also a decorator\n"
   ]
  },
  {
   "cell_type": "markdown",
   "id": "ec37ca97",
   "metadata": {},
   "source": [
    "### Abstraction\n",
    "Hiding the implementation detail of a class and only showing the essential fearures to the users.\n",
    "\n",
    "### Encapsulation\n",
    "Wrapping of data and function into a single unit( object)."
   ]
  },
  {
   "cell_type": "code",
   "execution_count": null,
   "id": "06198f8f",
   "metadata": {},
   "outputs": [
    {
     "name": "stdout",
     "output_type": "stream",
     "text": [
      "car start\n"
     ]
    }
   ],
   "source": [
    "class car:\n",
    "    def _init_(self):\n",
    "        self.acc = False\n",
    "        self.brk= False\n",
    "        self.clutch=False\n",
    "    def start(self):\n",
    "        self.clutch= True\n",
    "        self.acc= True\n",
    "        print(\"car start\")\n",
    "car1= car()\n",
    "car1.start()\n",
    "# unessery thing that we didn't show like turn clutch  and acc true, we just show car starts which is called abstraction\n",
    "        \n",
    "        "
   ]
  },
  {
   "cell_type": "code",
   "execution_count": null,
   "id": "7e93613e",
   "metadata": {},
   "outputs": [],
   "source": []
  }
 ],
 "metadata": {
  "kernelspec": {
   "display_name": "Python 3",
   "language": "python",
   "name": "python3"
  },
  "language_info": {
   "codemirror_mode": {
    "name": "ipython",
    "version": 3
   },
   "file_extension": ".py",
   "mimetype": "text/x-python",
   "name": "python",
   "nbconvert_exporter": "python",
   "pygments_lexer": "ipython3",
   "version": "3.13.1"
  }
 },
 "nbformat": 4,
 "nbformat_minor": 5
}
