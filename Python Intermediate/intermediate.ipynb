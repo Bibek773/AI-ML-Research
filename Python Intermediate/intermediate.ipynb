{
 "cells": [
  {
   "cell_type": "code",
   "execution_count": 1,
   "id": "1cadf659",
   "metadata": {},
   "outputs": [
    {
     "name": "stdout",
     "output_type": "stream",
     "text": [
      "5\n"
     ]
    }
   ],
   "source": [
    "#function\n",
    "# def is used to define a function in python\n",
    "def add(a, b):\n",
    "    return a + b\n",
    "print(add(2, 3))"
   ]
  },
  {
   "cell_type": "code",
   "execution_count": null,
   "id": "c874c710",
   "metadata": {},
   "outputs": [],
   "source": []
  },
  {
   "cell_type": "markdown",
   "id": "33fa77a6",
   "metadata": {},
   "source": [
    "## Using module:\n",
    "** Example **\n",
    "\n",
    "### mathsoperations.py\n",
    "```python\n",
    "def add(a, b):\n",
    "    return a + b\n",
    "\n",
    "def multiply(a, b):\n",
    "    return a * b\n",
    "\n",
    "PI = 3.14159\n",
    "\n",
    "```\n",
    "### using mathsoperations \n",
    "```python\n",
    "import mathsoperations\n",
    "from mathsopertions import add, PI\n",
    "import mathsopertions as op\n",
    "\n",
    "result = math_utils.add(5, 3)\n",
    "result2 = add(5, 3)\n",
    "result3 = op.multiply(4, 6)\n",
    "```"
   ]
  },
  {
   "cell_type": "code",
   "execution_count": 4,
   "id": "8a62c519",
   "metadata": {},
   "outputs": [
    {
     "name": "stdout",
     "output_type": "stream",
     "text": [
      "Error: division by zero\n",
      "Execution completed.\n"
     ]
    }
   ],
   "source": [
    "# Exception Handling\n",
    "#An exceptionn is an error that occurs during the execution of a program,\n",
    "# Unlike syntax errors exception occurs at runtime\n",
    "try:\n",
    "    num1 = int (input(\"Enter a number:\"))\n",
    "    num2 = int (input(\"Enter a number:\"))\n",
    "    result = num1 / num2\n",
    "    print(\"Result:\", result)\n",
    "except Exception as e:\n",
    "    print(\"Error:\", e)\n",
    "else:\n",
    "    print(\"No errors occurred.\")# if no error occurs this run\n",
    "finally:\n",
    "    print(\"Execution completed.\")# this always run"
   ]
  },
  {
   "cell_type": "code",
   "execution_count": 6,
   "id": "2f16b2ce",
   "metadata": {},
   "outputs": [
    {
     "name": "stdout",
     "output_type": "stream",
     "text": [
      "You entered: 5\n"
     ]
    }
   ],
   "source": [
    "try:\n",
    "     num=int(input(\"enter any no\"))\n",
    "     if num<0:\n",
    "         raise ValueError(\"Number cannot be negative\")#the raise statement is used to trigger exceptions manually\n",
    "except ValueError as error:\n",
    "     print(error)\n",
    "else:\n",
    "     print(\"You entered:\",num)"
   ]
  },
  {
   "cell_type": "code",
   "execution_count": 7,
   "id": "d7208183",
   "metadata": {},
   "outputs": [
    {
     "name": "stdout",
     "output_type": "stream",
     "text": [
      "this is a triangle\n"
     ]
    }
   ],
   "source": [
    "def triangle(x,y,z):\n",
    "    try:\n",
    "        if ((x+y)<z) or ((x+y)<z) or ((x+y)<z):\n",
    "            raise ValueError(\"Given value doesn't satisfies triangle\")\n",
    "    except:\n",
    "        raise\n",
    "    else:\n",
    "        print(\"this is a triangle\")\n",
    "    return \n",
    "\n",
    "\n",
    "try:\n",
    "    a=int(input(\"Enter first side of triangle\"))\n",
    "    b=int(input(\"Enter second side of triangle\"))\n",
    "    c=int(input(\"Enter third side of triangle\"))\n",
    "    triangle(a,b,c)\n",
    "except ValueError as e:\n",
    "    print(e)"
   ]
  },
  {
   "cell_type": "code",
   "execution_count": 8,
   "id": "fab94970",
   "metadata": {},
   "outputs": [
    {
     "name": "stdout",
     "output_type": "stream",
     "text": [
      "Caught: This is a custom error!\n"
     ]
    }
   ],
   "source": [
    "# Custom Exception\n",
    "class MyCustomError(Exception):\n",
    "    pass\n",
    "\n",
    "try:\n",
    "    raise MyCustomError(\"This is a custom error!\")\n",
    "except MyCustomError as e:\n",
    "    print(\"Caught:\", e)\n"
   ]
  },
  {
   "cell_type": "code",
   "execution_count": 2,
   "id": "14f2e02a",
   "metadata": {},
   "outputs": [
    {
     "name": "stdout",
     "output_type": "stream",
     "text": [
      "1\n",
      "2\n",
      "3\n"
     ]
    }
   ],
   "source": [
    "# Generators\n",
    "# it is special type of function allow you to generate values one at a time instead of returning all vlaue at once\n",
    "def gen_func():\n",
    "    yield 1\n",
    "    yield 2\n",
    "    yield 3\n",
    "\n",
    "g = gen_func()\n",
    "print(next(g))  \n",
    "print(next(g))  \n",
    "print(next(g))  \n"
   ]
  },
  {
   "cell_type": "code",
   "execution_count": 3,
   "id": "451a58b8",
   "metadata": {},
   "outputs": [
    {
     "name": "stdout",
     "output_type": "stream",
     "text": [
      "0\n",
      "1\n",
      "2\n",
      "3\n",
      "4\n"
     ]
    }
   ],
   "source": [
    "def gen_nums():\n",
    "    for i in range(5):\n",
    "        yield i\n",
    "\n",
    "for n in gen_nums():\n",
    "    print(n)\n"
   ]
  },
  {
   "cell_type": "code",
   "execution_count": 4,
   "id": "dd19f7ab",
   "metadata": {},
   "outputs": [
    {
     "name": "stdout",
     "output_type": "stream",
     "text": [
      "[0, 1, 1, 2, 3, 5, 8, 13, 21, 34]\n"
     ]
    }
   ],
   "source": [
    "def fib(n):\n",
    "    a, b = 0, 1\n",
    "    for _ in range(n):\n",
    "        yield a\n",
    "        a, b = b, a+b\n",
    "\n",
    "print(list(fib(10)))\n",
    "\n",
    "\n"
   ]
  },
  {
   "cell_type": "markdown",
   "id": "f2b1fc6b",
   "metadata": {},
   "source": [
    "| Feature           | Iterator                                       | Generator                                           |\n",
    "| ----------------- | ---------------------------------------------- | --------------------------------------------------- |\n",
    "| How created?      | Using a class with `__iter__()` & `__next__()` | Using `yield` in a function or generator expression |\n",
    "| Boilerplate code  | More code (class & methods)                    | Less code, very concise                             |\n",
    "| Memory efficiency | Depends on implementation                      | Very memory efficient (lazy)                        |\n",
    "| Example           | `iter([1,2,3])`                                | `(x*x for x in range(5))`                           |\n"
   ]
  },
  {
   "cell_type": "markdown",
   "id": "cf889ec5",
   "metadata": {},
   "source": [
    "### Lamda Function\n",
    "one line function defined with `lambda` keyword\n",
    "\n",
    "**Syntax**: `lambda arguments: expression`\n",
    "\n",
    "**Example**:\n",
    "```python\n",
    "add = lambda x, y: x + y\n",
    "print(add(5, 3))  "
   ]
  },
  {
   "cell_type": "code",
   "execution_count": 1,
   "id": "9d215db3",
   "metadata": {},
   "outputs": [
    {
     "name": "stdout",
     "output_type": "stream",
     "text": [
      "25\n"
     ]
    }
   ],
   "source": [
    "#addition of squares\n",
    "additionOfSquares = lambda x,y: x**2 + y**2\n",
    "\n",
    "print(additionOfSquares(3,4)) # 3^2 +4^2 = 25\n"
   ]
  },
  {
   "cell_type": "markdown",
   "id": "c91ba03c",
   "metadata": {},
   "source": [
    "### Decorator Function\n",
    "A decorator is a function that takes another function and extends its behavior without explicitly modifying it.\n",
    "**Syntax**:\n",
    "```python\n",
    "def decorator_function(original_function):\n",
    "    def wrapper_function(*args, **kwargs):\n",
    "        # Code to execute before calling the original function\n",
    "        result = original_function(*args, **kwargs)\n",
    "        # Code to execute after calling the original function\n",
    "        return result\n",
    "    return wrapper_function\n",
    "```\n",
    "\n",
    "* used for logging, access control, instrumentation, caching, etc."
   ]
  },
  {
   "cell_type": "code",
   "execution_count": 4,
   "id": "f3b1a98f",
   "metadata": {},
   "outputs": [
    {
     "name": "stdout",
     "output_type": "stream",
     "text": [
      "Before the function runs\n",
      "Hello World!\n",
      "After the function runs\n"
     ]
    }
   ],
   "source": [
    "def decorator(jaynepal):\n",
    "    def wrapper():\n",
    "        print(\"Before the function runs\")\n",
    "        jaynepal()\n",
    "        print(\"After the function runs\")\n",
    "    return wrapper\n",
    "\n",
    "@decorator\n",
    "def jaynepal():\n",
    "    print(\"Hello World!\")\n",
    "\n",
    "jaynepal()\n"
   ]
  },
  {
   "cell_type": "markdown",
   "id": "aee75c78",
   "metadata": {},
   "source": [
    "### Closure\n",
    "It is a funcction that remembers the values from its enclosing scope, even after that scope is finished executing.\n",
    "**Syntax**:\n",
    "```python\n",
    "def outer_function(message):\n",
    "    # This is the enclosing scope\n",
    "    \n",
    "    def inner_function():\n",
    "        # This inner function \"closes over\" the message variable\n",
    "        print(message)\n",
    "    \n",
    "    return inner_function\n",
    "\n",
    "# Create a closure\n",
    "my_closure = outer_function(\"Hello, World!\")\n",
    "my_closure()  # Output: Hello, World!\n",
    "```\n",
    "* used in decorators, callbacks, and data hiding."
   ]
  },
  {
   "cell_type": "code",
   "execution_count": 7,
   "id": "17b6ed15",
   "metadata": {},
   "outputs": [
    {
     "name": "stdout",
     "output_type": "stream",
     "text": [
      "14\n",
      "15\n"
     ]
    }
   ],
   "source": [
    "def adder(val):\n",
    "    def abc(base):\n",
    "        return base +  val\n",
    "    return abc\n",
    "adder4 = adder(4)\n",
    "print(adder4(10)) # 10 + 4 = 14\n",
    "adder10 = adder(10) \n",
    "print(adder10(5))  # 5 + 10 = 15    "
   ]
  }
 ],
 "metadata": {
  "kernelspec": {
   "display_name": "Python 3",
   "language": "python",
   "name": "python3"
  },
  "language_info": {
   "codemirror_mode": {
    "name": "ipython",
    "version": 3
   },
   "file_extension": ".py",
   "mimetype": "text/x-python",
   "name": "python",
   "nbconvert_exporter": "python",
   "pygments_lexer": "ipython3",
   "version": "3.13.1"
  }
 },
 "nbformat": 4,
 "nbformat_minor": 5
}
