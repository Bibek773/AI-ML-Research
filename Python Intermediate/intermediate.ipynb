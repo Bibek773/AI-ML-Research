{
 "cells": [
  {
   "cell_type": "code",
   "execution_count": 1,
   "id": "1cadf659",
   "metadata": {},
   "outputs": [
    {
     "name": "stdout",
     "output_type": "stream",
     "text": [
      "5\n"
     ]
    }
   ],
   "source": [
    "#function\n",
    "# def is used to define a function in python\n",
    "def add(a, b):\n",
    "    return a + b\n",
    "print(add(2, 3))"
   ]
  },
  {
   "cell_type": "code",
   "execution_count": null,
   "id": "c874c710",
   "metadata": {},
   "outputs": [],
   "source": []
  },
  {
   "cell_type": "markdown",
   "id": "33fa77a6",
   "metadata": {},
   "source": [
    "## Using module:\n",
    "** Example **\n",
    "\n",
    "### mathsoperations.py\n",
    "```python\n",
    "def add(a, b):\n",
    "    return a + b\n",
    "\n",
    "def multiply(a, b):\n",
    "    return a * b\n",
    "\n",
    "PI = 3.14159\n",
    "\n",
    "```\n",
    "### using mathsoperations \n",
    "```python\n",
    "import mathsoperations\n",
    "from mathsopertions import add, PI\n",
    "import mathsopertions as op\n",
    "\n",
    "result = math_utils.add(5, 3)\n",
    "result2 = add(5, 3)\n",
    "result3 = op.multiply(4, 6)\n",
    "```"
   ]
  },
  {
   "cell_type": "code",
   "execution_count": 4,
   "id": "8a62c519",
   "metadata": {},
   "outputs": [
    {
     "name": "stdout",
     "output_type": "stream",
     "text": [
      "Error: division by zero\n",
      "Execution completed.\n"
     ]
    }
   ],
   "source": [
    "# Exception Handling\n",
    "#An exceptionn is an error that occurs during the execution of a program,\n",
    "# Unlike syntax errors exception occurs at runtime\n",
    "try:\n",
    "    num1 = int (input(\"Enter a number:\"))\n",
    "    num2 = int (input(\"Enter a number:\"))\n",
    "    result = num1 / num2\n",
    "    print(\"Result:\", result)\n",
    "except Exception as e:\n",
    "    print(\"Error:\", e)\n",
    "else:\n",
    "    print(\"No errors occurred.\")# if no error occurs this run\n",
    "finally:\n",
    "    print(\"Execution completed.\")# this always run"
   ]
  },
  {
   "cell_type": "code",
   "execution_count": 6,
   "id": "2f16b2ce",
   "metadata": {},
   "outputs": [
    {
     "name": "stdout",
     "output_type": "stream",
     "text": [
      "You entered: 5\n"
     ]
    }
   ],
   "source": [
    "try:\n",
    "     num=int(input(\"enter any no\"))\n",
    "     if num<0:\n",
    "         raise ValueError(\"Number cannot be negative\")#the raise statement is used to trigger exceptions manually\n",
    "except ValueError as error:\n",
    "     print(error)\n",
    "else:\n",
    "     print(\"You entered:\",num)"
   ]
  },
  {
   "cell_type": "code",
   "execution_count": 7,
   "id": "d7208183",
   "metadata": {},
   "outputs": [
    {
     "name": "stdout",
     "output_type": "stream",
     "text": [
      "this is a triangle\n"
     ]
    }
   ],
   "source": [
    "def triangle(x,y,z):\n",
    "    try:\n",
    "        if ((x+y)<z) or ((x+y)<z) or ((x+y)<z):\n",
    "            raise ValueError(\"Given value doesn't satisfies triangle\")\n",
    "    except:\n",
    "        raise\n",
    "    else:\n",
    "        print(\"this is a triangle\")\n",
    "    return \n",
    "\n",
    "\n",
    "try:\n",
    "    a=int(input(\"Enter first side of triangle\"))\n",
    "    b=int(input(\"Enter second side of triangle\"))\n",
    "    c=int(input(\"Enter third side of triangle\"))\n",
    "    triangle(a,b,c)\n",
    "except ValueError as e:\n",
    "    print(e)"
   ]
  },
  {
   "cell_type": "code",
   "execution_count": 8,
   "id": "fab94970",
   "metadata": {},
   "outputs": [
    {
     "name": "stdout",
     "output_type": "stream",
     "text": [
      "Caught: This is a custom error!\n"
     ]
    }
   ],
   "source": [
    "# Custom Exception\n",
    "class MyCustomError(Exception):\n",
    "    pass\n",
    "\n",
    "try:\n",
    "    raise MyCustomError(\"This is a custom error!\")\n",
    "except MyCustomError as e:\n",
    "    print(\"Caught:\", e)\n"
   ]
  },
  {
   "cell_type": "code",
   "execution_count": 2,
   "id": "14f2e02a",
   "metadata": {},
   "outputs": [
    {
     "name": "stdout",
     "output_type": "stream",
     "text": [
      "1\n",
      "2\n",
      "3\n"
     ]
    }
   ],
   "source": [
    "# Generators\n",
    "# it is special type of function allow you to generate values one at a time instead of returning all vlaue at once\n",
    "def gen_func():\n",
    "    yield 1\n",
    "    yield 2\n",
    "    yield 3\n",
    "\n",
    "g = gen_func()\n",
    "print(next(g))  \n",
    "print(next(g))  \n",
    "print(next(g))  \n"
   ]
  },
  {
   "cell_type": "code",
   "execution_count": 3,
   "id": "451a58b8",
   "metadata": {},
   "outputs": [
    {
     "name": "stdout",
     "output_type": "stream",
     "text": [
      "0\n",
      "1\n",
      "2\n",
      "3\n",
      "4\n"
     ]
    }
   ],
   "source": [
    "def gen_nums():\n",
    "    for i in range(5):\n",
    "        yield i\n",
    "\n",
    "for n in gen_nums():\n",
    "    print(n)\n"
   ]
  },
  {
   "cell_type": "code",
   "execution_count": 4,
   "id": "dd19f7ab",
   "metadata": {},
   "outputs": [
    {
     "name": "stdout",
     "output_type": "stream",
     "text": [
      "[0, 1, 1, 2, 3, 5, 8, 13, 21, 34]\n"
     ]
    }
   ],
   "source": [
    "def fib(n):\n",
    "    a, b = 0, 1\n",
    "    for _ in range(n):\n",
    "        yield a\n",
    "        a, b = b, a+b\n",
    "\n",
    "print(list(fib(10)))\n",
    "\n",
    "\n"
   ]
  },
  {
   "cell_type": "markdown",
   "id": "f2b1fc6b",
   "metadata": {},
   "source": [
    "| Feature           | Iterator                                       | Generator                                           |\n",
    "| ----------------- | ---------------------------------------------- | --------------------------------------------------- |\n",
    "| How created?      | Using a class with `__iter__()` & `__next__()` | Using `yield` in a function or generator expression |\n",
    "| Boilerplate code  | More code (class & methods)                    | Less code, very concise                             |\n",
    "| Memory efficiency | Depends on implementation                      | Very memory efficient (lazy)                        |\n",
    "| Example           | `iter([1,2,3])`                                | `(x*x for x in range(5))`                           |\n"
   ]
  }
 ],
 "metadata": {
  "kernelspec": {
   "display_name": "Python 3",
   "language": "python",
   "name": "python3"
  },
  "language_info": {
   "codemirror_mode": {
    "name": "ipython",
    "version": 3
   },
   "file_extension": ".py",
   "mimetype": "text/x-python",
   "name": "python",
   "nbconvert_exporter": "python",
   "pygments_lexer": "ipython3",
   "version": "3.13.1"
  }
 },
 "nbformat": 4,
 "nbformat_minor": 5
}
