{
 "cells": [
  {
   "cell_type": "code",
   "execution_count": 1,
   "id": "1cadf659",
   "metadata": {},
   "outputs": [
    {
     "name": "stdout",
     "output_type": "stream",
     "text": [
      "5\n"
     ]
    }
   ],
   "source": [
    "#function\n",
    "# def is used to define a function in python\n",
    "def add(a, b):\n",
    "    return a + b\n",
    "print(add(2, 3))"
   ]
  },
  {
   "cell_type": "code",
   "execution_count": null,
   "id": "c874c710",
   "metadata": {},
   "outputs": [],
   "source": []
  },
  {
   "cell_type": "markdown",
   "id": "33fa77a6",
   "metadata": {},
   "source": [
    "## Using module:\n",
    "** Example **\n",
    "\n",
    "### mathsoperations.py\n",
    "```python\n",
    "def add(a, b):\n",
    "    return a + b\n",
    "\n",
    "def multiply(a, b):\n",
    "    return a * b\n",
    "\n",
    "PI = 3.14159\n",
    "\n",
    "```\n",
    "### using mathsoperations \n",
    "```python\n",
    "import mathsoperations\n",
    "from mathsopertions import add, PI\n",
    "import mathsopertions as op\n",
    "\n",
    "result = math_utils.add(5, 3)\n",
    "result2 = add(5, 3)\n",
    "result3 = op.multiply(4, 6)\n",
    "```"
   ]
  },
  {
   "cell_type": "code",
   "execution_count": 4,
   "id": "8a62c519",
   "metadata": {},
   "outputs": [
    {
     "name": "stdout",
     "output_type": "stream",
     "text": [
      "Error: division by zero\n",
      "Execution completed.\n"
     ]
    }
   ],
   "source": [
    "# Exception Handling\n",
    "#An exceptionn is an error that occurs during the execution of a program,\n",
    "# Unlike syntax errors exception occurs at runtime\n",
    "try:\n",
    "    num1 = int (input(\"Enter a number:\"))\n",
    "    num2 = int (input(\"Enter a number:\"))\n",
    "    result = num1 / num2\n",
    "    print(\"Result:\", result)\n",
    "except Exception as e:\n",
    "    print(\"Error:\", e)\n",
    "else:\n",
    "    print(\"No errors occurred.\")# if no error occurs this run\n",
    "finally:\n",
    "    print(\"Execution completed.\")# this always run"
   ]
  },
  {
   "cell_type": "code",
   "execution_count": 6,
   "id": "2f16b2ce",
   "metadata": {},
   "outputs": [
    {
     "name": "stdout",
     "output_type": "stream",
     "text": [
      "You entered: 5\n"
     ]
    }
   ],
   "source": [
    "try:\n",
    "     num=int(input(\"enter any no\"))\n",
    "     if num<0:\n",
    "         raise ValueError(\"Number cannot be negative\")#the raise statement is used to trigger exceptions manually\n",
    "except ValueError as error:\n",
    "     print(error)\n",
    "else:\n",
    "     print(\"You entered:\",num)"
   ]
  },
  {
   "cell_type": "code",
   "execution_count": 7,
   "id": "d7208183",
   "metadata": {},
   "outputs": [
    {
     "name": "stdout",
     "output_type": "stream",
     "text": [
      "this is a triangle\n"
     ]
    }
   ],
   "source": [
    "def triangle(x,y,z):\n",
    "    try:\n",
    "        if ((x+y)<z) or ((x+y)<z) or ((x+y)<z):\n",
    "            raise ValueError(\"Given value doesn't satisfies triangle\")\n",
    "    except:\n",
    "        raise\n",
    "    else:\n",
    "        print(\"this is a triangle\")\n",
    "    return \n",
    "\n",
    "\n",
    "try:\n",
    "    a=int(input(\"Enter first side of triangle\"))\n",
    "    b=int(input(\"Enter second side of triangle\"))\n",
    "    c=int(input(\"Enter third side of triangle\"))\n",
    "    triangle(a,b,c)\n",
    "except ValueError as e:\n",
    "    print(e)"
   ]
  },
  {
   "cell_type": "code",
   "execution_count": 8,
   "id": "fab94970",
   "metadata": {},
   "outputs": [
    {
     "name": "stdout",
     "output_type": "stream",
     "text": [
      "Caught: This is a custom error!\n"
     ]
    }
   ],
   "source": [
    "# Custom Exception\n",
    "class MyCustomError(Exception):\n",
    "    pass\n",
    "\n",
    "try:\n",
    "    raise MyCustomError(\"This is a custom error!\")\n",
    "except MyCustomError as e:\n",
    "    print(\"Caught:\", e)\n"
   ]
  },
  {
   "cell_type": "code",
   "execution_count": null,
   "id": "14f2e02a",
   "metadata": {},
   "outputs": [],
   "source": []
  }
 ],
 "metadata": {
  "kernelspec": {
   "display_name": "Python 3",
   "language": "python",
   "name": "python3"
  },
  "language_info": {
   "codemirror_mode": {
    "name": "ipython",
    "version": 3
   },
   "file_extension": ".py",
   "mimetype": "text/x-python",
   "name": "python",
   "nbconvert_exporter": "python",
   "pygments_lexer": "ipython3",
   "version": "3.13.1"
  }
 },
 "nbformat": 4,
 "nbformat_minor": 5
}
