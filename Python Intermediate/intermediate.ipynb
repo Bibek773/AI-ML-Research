{
 "cells": [
  {
   "cell_type": "code",
   "execution_count": 1,
   "id": "1cadf659",
   "metadata": {},
   "outputs": [
    {
     "name": "stdout",
     "output_type": "stream",
     "text": [
      "5\n"
     ]
    }
   ],
   "source": [
    "#function\n",
    "# def is used to define a function in python\n",
    "def add(a, b):\n",
    "    return a + b\n",
    "print(add(2, 3))"
   ]
  },
  {
   "cell_type": "code",
   "execution_count": null,
   "id": "c874c710",
   "metadata": {},
   "outputs": [],
   "source": []
  },
  {
   "cell_type": "markdown",
   "id": "33fa77a6",
   "metadata": {},
   "source": [
    "## Using module:\n",
    "** Example **\n",
    "\n",
    "### mathsoperations.py\n",
    "```python\n",
    "def add(a, b):\n",
    "    return a + b\n",
    "\n",
    "def multiply(a, b):\n",
    "    return a * b\n",
    "\n",
    "PI = 3.14159\n",
    "\n",
    "```\n",
    "### using mathsoperations \n",
    "```python\n",
    "import mathsoperations\n",
    "from mathsopertions import add, PI\n",
    "import mathsopertions as op\n",
    "\n",
    "result = math_utils.add(5, 3)\n",
    "result2 = add(5, 3)\n",
    "result3 = op.multiply(4, 6)\n",
    "```"
   ]
  },
  {
   "cell_type": "code",
   "execution_count": null,
   "id": "8a62c519",
   "metadata": {},
   "outputs": [],
   "source": []
  }
 ],
 "metadata": {
  "kernelspec": {
   "display_name": "Python 3",
   "language": "python",
   "name": "python3"
  },
  "language_info": {
   "codemirror_mode": {
    "name": "ipython",
    "version": 3
   },
   "file_extension": ".py",
   "mimetype": "text/x-python",
   "name": "python",
   "nbconvert_exporter": "python",
   "pygments_lexer": "ipython3",
   "version": "3.13.1"
  }
 },
 "nbformat": 4,
 "nbformat_minor": 5
}
